{
 "cells": [
  {
   "cell_type": "markdown",
   "id": "39cd5600-5b63-4654-b217-ec9e51afc9aa",
   "metadata": {},
   "source": [
    "# Graphs"
   ]
  },
  {
   "cell_type": "markdown",
   "id": "d76d339d-436b-4f7d-aa4d-8b6b4e1435d5",
   "metadata": {},
   "source": [
    "## What is a graph?\n",
    "\n",
    "A graph is a representation of a system that contains discrete,\n",
    "interconnected elements. The elements are represented by nodes|also called\n",
    "vertices { and the interconnections are represented by edges."
   ]
  },
  {
   "cell_type": "markdown",
   "id": "71109e32-ea8f-4e63-ab15-b89307080ae8",
   "metadata": {},
   "source": [
    "## Path\n",
    "\n",
    "A path is a sequence of nodes with an edge between each\n",
    "consecutive pair."
   ]
  },
  {
   "cell_type": "markdown",
   "id": "e68d6de3-3ac1-4a02-b421-8ad68d647f32",
   "metadata": {},
   "source": [
    "## A directed graph:"
   ]
  },
  {
   "cell_type": "code",
   "execution_count": 28,
   "id": "8479f4a1-4416-40c5-9a1e-e16ea4f3a439",
   "metadata": {},
   "outputs": [
    {
     "name": "stdout",
     "output_type": "stream",
     "text": [
      "Requirement already satisfied: networkx in c:\\users\\msule\\appdata\\local\\programs\\python\\python313\\lib\\site-packages (3.4.2)\n"
     ]
    }
   ],
   "source": [
    "!pip install networkx\n",
    "\n",
    "import networkx as nx\n",
    "\n",
    "# init graph\n",
    "G = nx.DiGraph()"
   ]
  },
  {
   "cell_type": "code",
   "execution_count": 29,
   "id": "ee2796b5-c1f7-4293-bbc8-7a42111e3d14",
   "metadata": {},
   "outputs": [],
   "source": [
    "# add nodes\n",
    "\n",
    "G.add_node(\"Alice\")\n",
    "G.add_node(\"Bob\")\n",
    "G.add_node(\"Chuck\")"
   ]
  },
  {
   "cell_type": "code",
   "execution_count": 30,
   "id": "f94b99b9-e719-4bf7-ae70-4302049c67bb",
   "metadata": {},
   "outputs": [
    {
     "data": {
      "text/plain": [
       "['Alice', 'Bob', 'Chuck']"
      ]
     },
     "execution_count": 30,
     "metadata": {},
     "output_type": "execute_result"
    }
   ],
   "source": [
    "# display nodes\n",
    "\n",
    "list(G.nodes())"
   ]
  },
  {
   "cell_type": "code",
   "execution_count": 31,
   "id": "81e52566-7b20-4971-b3d4-e58369cb6e45",
   "metadata": {},
   "outputs": [],
   "source": [
    "# add edges\n",
    "\n",
    "G.add_edge('Alice', 'Bob')\n",
    "G.add_edge('Alice', 'Chuck')\n",
    "G.add_edge('Bob', 'Alice')\n",
    "G.add_edge('Bob', 'Chuck')"
   ]
  },
  {
   "cell_type": "code",
   "execution_count": 32,
   "id": "54aa0d0d-d36e-494d-a595-1b1fba4c91ea",
   "metadata": {},
   "outputs": [
    {
     "data": {
      "text/plain": [
       "[('Alice', 'Bob'), ('Alice', 'Chuck'), ('Bob', 'Alice'), ('Bob', 'Chuck')]"
      ]
     },
     "execution_count": 32,
     "metadata": {},
     "output_type": "execute_result"
    }
   ],
   "source": [
    "# display edges\n",
    "\n",
    "list(G.edges())"
   ]
  },
  {
   "cell_type": "code",
   "execution_count": 33,
   "id": "ec16f1da-f957-4460-94b3-67ce35f03489",
   "metadata": {},
   "outputs": [
    {
     "data": {
      "image/png": "[encoded data removed]",
      "text/plain": [
       "<Figure size 640x480 with 1 Axes>"
      ]
     },
     "metadata": {},
     "output_type": "display_data"
    }
   ],
   "source": [
    "# draw_circular arranges nodes in a circle and connects them with edges\n",
    "\n",
    "nx.draw_circular(\n",
    "    G,\n",
    "    node_color=\"C0\",\n",
    "    node_size=2000,\n",
    "    with_labels=True\n",
    ")"
   ]
  },
  {
   "cell_type": "markdown",
   "id": "6166a6b7-c710-4bf4-ab13-f0f9fdc3dbb0",
   "metadata": {},
   "source": [
    "## An undirected graph:"
   ]
  },
  {
   "cell_type": "code",
   "execution_count": 34,
   "id": "f6034e61-7e62-4d3b-ba35-df85c88ac299",
   "metadata": {},
   "outputs": [],
   "source": [
    "# dictionary mapping city names to longitudes and latitudes\n",
    "\n",
    "positions = dict(\n",
    "    Albany=(-74, 43),\n",
    "    Boston=(-71, 42),\n",
    "    NYC=(-74, 41),\n",
    "    Philly=(-75, 40)\n",
    ")"
   ]
  },
  {
   "cell_type": "code",
   "execution_count": 35,
   "id": "36a2a605-b5e9-49d5-9b28-5abdf3f93735",
   "metadata": {},
   "outputs": [],
   "source": [
    "# init graph\n",
    "G = nx.Graph()"
   ]
  },
  {
   "cell_type": "code",
   "execution_count": 36,
   "id": "ad29d003-d490-4176-8558-b8caab87a109",
   "metadata": {},
   "outputs": [],
   "source": [
    "# add nodes using the dictionary\n",
    "G.add_nodes_from(positions)"
   ]
  },
  {
   "cell_type": "code",
   "execution_count": 37,
   "id": "8c802914-0a62-404c-83f3-92290806f190",
   "metadata": {},
   "outputs": [],
   "source": [
    "# dictionary of drive times between cities\n",
    "\n",
    "drive_times = {\n",
    "    ('Albany', 'Boston'): 3,\n",
    "    ('Albany', 'NYC'): 4,\n",
    "    ('Boston', 'NYC'): 4,\n",
    "    ('NYC', 'Philly'): 2\n",
    "}"
   ]
  },
  {
   "cell_type": "code",
   "execution_count": 38,
   "id": "d1d02562-28c4-484a-b2b6-32a45395d026",
   "metadata": {},
   "outputs": [],
   "source": [
    "# use dicitonary to add edges\n",
    "G.add_edges_from(drive_times)"
   ]
  },
  {
   "cell_type": "code",
   "execution_count": 41,
   "id": "82d196cc-b39c-46d2-873e-a60e45a84965",
   "metadata": {},
   "outputs": [
    {
     "data": {
      "text/plain": [
       "{('Albany', 'Boston'): Text(-72.50000641573571, 42.50000213857856, '3'),\n",
       " ('Albany', 'NYC'): Text(-74.0, 41.99998938268981, '4'),\n",
       " ('Boston', 'NYC'): Text(-72.49999358426432, 41.500002138578566, '4'),\n",
       " ('NYC', 'Philly'): Text(-74.49999546876644, 40.500004531233564, '2')}"
      ]
     },
     "execution_count": 41,
     "metadata": {},
     "output_type": "execute_result"
    },
    {
     "data": {
      "image/png": "[encoded data removed]",
      "text/plain": [
       "<Figure size 640x480 with 1 Axes>"
      ]
     },
     "metadata": {},
     "output_type": "display_data"
    }
   ],
   "source": [
    "nx.draw(\n",
    "    G,\n",
    "    positions,\n",
    "    node_color=\"C1\",\n",
    "    node_shape=\"s\",\n",
    "    node_size=2500,\n",
    "    with_labels=True\n",
    ")\n",
    "nx.draw_networkx_edge_labels(\n",
    "    G,\n",
    "    pos=positions,\n",
    "    edge_labels=drive_times\n",
    ")"
   ]
  },
  {
   "cell_type": "markdown",
   "id": "c2faa040-a045-46d1-8b74-0e507d0238e7",
   "metadata": {},
   "source": [
    "## Random graphs\n",
    "\n",
    "A random graph is just what it sounds like: a graph with nodes and edges\n",
    "generated at random. Of course, there are many random processes that can\n",
    "generate graphs, so there are many kinds of random graphs.\n",
    "\n",
    "One of the more interesting kinds is the Erdos-Renyi model, studied by Paul\n",
    "Erdos and Alfred Renyi in the 1960s.\n",
    "\n",
    "An Erdos-Renyi graph (ER graph) is characterized by two parameters: n is\n",
    "the number of nodes and p is the probability that there is an edge between\n",
    "any two nodes.\n",
    "\n",
    "Erdos and Renyi studied the properties of these random graphs; one of their\n",
    "surprising results is the existence of abrupt changes in the properties of random\n",
    "graphs as random edges are added.\n",
    "\n",
    "One of the properties that displays this kind of transition is connectivity. An\n",
    "undirected graph is connected if there is a path from every node to every\n",
    "other node.\n",
    "\n",
    "In an ER graph, the probability that the graph is connected is very low when\n",
    "p is small and nearly 1 when p is large. Between these two regimes, there is a\n",
    "rapid transition at a particular value of p, denoted p*.\n",
    "\n",
    "Erdos and Renyi showed that this critical value is p* = (ln n)=n, where n is\n",
    "the number of nodes. A random graph, G(n, p), is unlikely to be connected if\n",
    "p < p* and very likely to be connected if p > p*.\n",
    "\n",
    "To test this claim, we'll develop algorithms to generate random graphs and\n",
    "check whether they are connected."
   ]
  },
  {
   "cell_type": "markdown",
   "id": "a8e24566-8054-44b4-b9c3-8601e0a34e7e",
   "metadata": {},
   "source": [
    "### Connectivity\n",
    "\n",
    "An undirected graph is connected if there is a path from every node to every other node."
   ]
  },
  {
   "cell_type": "markdown",
   "id": "f9cb8084-8d55-4ff3-80dc-4649a2d9f53a",
   "metadata": {},
   "source": [
    "## Generating \n",
    "\n",
    "### Complete graph\n",
    "\n",
    "A graph where every node is connected to every other."
   ]
  },
  {
   "cell_type": "code",
   "execution_count": 42,
   "id": "f5435542-97c8-4b68-8cab-6579deb345a2",
   "metadata": {},
   "outputs": [],
   "source": [
    "# generator function that takes a list of nodes and enumerates all distinct pairs\n",
    "\n",
    "def all_pairs(nodes):\n",
    "    for i, u in enumerate(nodes):\n",
    "        for j, v in enumerate(nodes):\n",
    "            if i > j:\n",
    "                yield u, v"
   ]
  },
  {
   "cell_type": "code",
   "execution_count": 43,
   "id": "0e0e571c-c80a-464b-a216-f097bff7a6fd",
   "metadata": {},
   "outputs": [],
   "source": [
    "# construct complete graph\n",
    "\n",
    "def make_complete_graph(n):\n",
    "    G = nx.Graph()\n",
    "    nodes = range(n)\n",
    "    G.add_nodes_from(nodes)\n",
    "    G.add_edges_from(all_pairs(nodes))\n",
    "    return G"
   ]
  },
  {
   "cell_type": "code",
   "execution_count": null,
   "id": "8862d37e-4244-4b4e-a053-f365260f8374",
   "metadata": {},
   "outputs": [],
   "source": [
    "# complete graph with 10 nodes\n",
    "\n",
    "complete = make_complete_graph(10)\n",
    "nx.draw_circular(\n",
    "\n",
    ")"
   ]
  }
 ],
 "metadata": {
  "kernelspec": {
   "display_name": "Python 3 (ipykernel)",
   "language": "python",
   "name": "python3"
  },
  "language_info": {
   "codemirror_mode": {
    "name": "ipython",
    "version": 3
   },
   "file_extension": ".py",
   "mimetype": "text/x-python",
   "name": "python",
   "nbconvert_exporter": "python",
   "pygments_lexer": "ipython3",
   "version": "3.13.0"
  }
 },
 "nbformat": 4,
 "nbformat_minor": 5
}
