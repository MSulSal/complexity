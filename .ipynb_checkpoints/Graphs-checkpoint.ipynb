{
 "cells": [
  {
   "cell_type": "markdown",
   "id": "39cd5600-5b63-4654-b217-ec9e51afc9aa",
   "metadata": {},
   "source": [
    "# Graphs"
   ]
  },
  {
   "cell_type": "markdown",
   "id": "d76d339d-436b-4f7d-aa4d-8b6b4e1435d5",
   "metadata": {},
   "source": [
    "## What is a graph?\n",
    "\n",
    "A graph is a representation of a system that contains discrete,\n",
    "interconnected elements. The elements are represented by nodes|also called\n",
    "vertices { and the interconnections are represented by edges."
   ]
  },
  {
   "cell_type": "markdown",
   "id": "71109e32-ea8f-4e63-ab15-b89307080ae8",
   "metadata": {},
   "source": [
    "## Path\n",
    "\n",
    "A path is a sequence of nodes with an edge between each\n",
    "consecutive pair."
   ]
  },
  {
   "cell_type": "markdown",
   "id": "e68d6de3-3ac1-4a02-b421-8ad68d647f32",
   "metadata": {},
   "source": [
    "## A directed graph:"
   ]
  },
  {
   "cell_type": "code",
   "execution_count": 3,
   "id": "8479f4a1-4416-40c5-9a1e-e16ea4f3a439",
   "metadata": {},
   "outputs": [
    {
     "name": "stdout",
     "output_type": "stream",
     "text": [
      "Requirement already satisfied: networkx in c:\\users\\msule\\appdata\\local\\programs\\python\\python313\\lib\\site-packages (3.4.2)\n"
     ]
    }
   ],
   "source": [
    "!pip install networkx\n",
    "\n",
    "import networkx as nx\n",
    "\n",
    "# init graph\n",
    "G = nx.DiGraph()"
   ]
  },
  {
   "cell_type": "code",
   "execution_count": 4,
   "id": "ee2796b5-c1f7-4293-bbc8-7a42111e3d14",
   "metadata": {},
   "outputs": [],
   "source": [
    "# add nodes\n",
    "\n",
    "G.add_node(\"Alice\")\n",
    "G.add_node(\"Bob\")\n",
    "G.add_node(\"Chuck\")"
   ]
  },
  {
   "cell_type": "code",
   "execution_count": 7,
   "id": "f94b99b9-e719-4bf7-ae70-4302049c67bb",
   "metadata": {},
   "outputs": [
    {
     "data": {
      "text/plain": [
       "['Alice', 'Bob', 'Chuck']"
      ]
     },
     "execution_count": 7,
     "metadata": {},
     "output_type": "execute_result"
    }
   ],
   "source": [
    "# display nodes\n",
    "\n",
    "list(G.nodes())"
   ]
  },
  {
   "cell_type": "code",
   "execution_count": null,
   "id": "81e52566-7b20-4971-b3d4-e58369cb6e45",
   "metadata": {},
   "outputs": [],
   "source": [
    "# add edges\n",
    "\n",
    "G.add_edge('Alice', 'Bob')\n",
    "G.add_edge('Alice', 'Chuck')\n",
    "G.add_edge('Bob', 'Alice')\n",
    "G.add_edge('Bob', 'Chuck')"
   ]
  }
 ],
 "metadata": {
  "kernelspec": {
   "display_name": "Python 3 (ipykernel)",
   "language": "python",
   "name": "python3"
  },
  "language_info": {
   "codemirror_mode": {
    "name": "ipython",
    "version": 3
   },
   "file_extension": ".py",
   "mimetype": "text/x-python",
   "name": "python",
   "nbconvert_exporter": "python",
   "pygments_lexer": "ipython3",
   "version": "3.13.0"
  }
 },
 "nbformat": 4,
 "nbformat_minor": 5
}
